{
  "cells": [
    {
      "cell_type": "code",
      "execution_count": null,
      "metadata": {
        "id": "QVg2NNfvux08"
      },
      "outputs": [],
      "source": [
        "!pip install chess\n",
        "!pip install openai"
      ]
    },
    {
      "cell_type": "code",
      "source": [
        "import openai\n",
        "import getpass\n",
        "import chess\n",
        "import time\n",
        "from IPython.display import clear_output"
      ],
      "metadata": {
        "id": "2PWQXHnlqE59"
      },
      "execution_count": 2,
      "outputs": []
    },
    {
      "cell_type": "code",
      "source": [
        "openai.api_key = YOUR_OPENAI_API_KEY"
      ],
      "metadata": {
        "id": "10KxF-jM-Twz"
      },
      "execution_count": 3,
      "outputs": []
    },
    {
      "cell_type": "code",
      "execution_count": 4,
      "metadata": {
        "id": "owGSLf6am8Oi"
      },
      "outputs": [],
      "source": [
        "def get_next_move(prompt):\n",
        "\n",
        "  completion = openai.Completion.create(\n",
        "  engine=\"text-curie-001\",\n",
        "  n=50,\n",
        "  max_tokens=6,\n",
        "  stop=[\"\\n\"],\n",
        "  prompt= prompt,\n",
        "  temperature=1,\n",
        "  top_p=1,\n",
        "  presence_penalty=0,\n",
        "  frequency_penalty=0,\n",
        "  echo=True,\n",
        ")\n",
        "  choices = completion[\"choices\"]\n",
        "  moves = []\n",
        "\n",
        "  for choice in choices:\n",
        "    move = choice[\"text\"].replace(prompt,\"\")\n",
        "    if move.strip():\n",
        "      moves.append(move.split()[0])\n",
        "\n",
        "  return moves"
      ]
    },
    {
      "cell_type": "code",
      "source": [
        "count = 0\n",
        "prompt =  \"Play chess \"\n",
        "checkmate = False\n",
        "board = chess.Board()\n",
        "display(board)"
      ],
      "metadata": {
        "id": "zNU-x-k1rU6m"
      },
      "execution_count": null,
      "outputs": []
    },
    {
      "cell_type": "code",
      "source": [
        "while(True):\n",
        "\n",
        "  while(True):\n",
        "    move = input()\n",
        "    try:\n",
        "      board.push_san(move)\n",
        "      clear_output(wait=True)\n",
        "      display(board)\n",
        "      time.sleep(1)\n",
        "      if(board.is_checkmate()):\n",
        "        print(\"Checkmate!\")\n",
        "        checkmate = True\n",
        "        break\n",
        "      count += 1\n",
        "      break\n",
        "    except:\n",
        "      print(\"Illegal move. Try again\")\n",
        "\n",
        "  if(checkmate):\n",
        "    break\n",
        "  prompt += str(count) + \".\" + move\n",
        "  attempts = 0\n",
        "\n",
        "  print(prompt)\n",
        "\n",
        "  moves = get_next_move(prompt)\n",
        "  legal_move = False\n",
        "\n",
        "  for move in moves:\n",
        "    print(move)\n",
        "\n",
        "    try:\n",
        "\n",
        "      board.push_san(move)\n",
        "      clear_output(wait=True)\n",
        "      display(board)\n",
        "      if(board.is_checkmate()):\n",
        "        print(\"Checkmate!\")\n",
        "        checkmate = True\n",
        "        break\n",
        "\n",
        "      legal_move = True\n",
        "      prompt+= \" \" + move + \"\\n\"\n",
        "      break\n",
        "\n",
        "    except:\n",
        "      continue\n",
        "\n",
        "  if(checkmate):\n",
        "    break\n",
        "\n",
        "  if not legal_move:\n",
        "    print(\"No legal moves returned by GPT-3\")\n",
        "    break\n"
      ],
      "metadata": {
        "id": "Vr654dBjTFf3"
      },
      "execution_count": null,
      "outputs": []
    }
  ],
  "metadata": {
    "colab": {
      "name": "Chess.ipynb",
      "provenance": [],
      "authorship_tag": "ABX9TyM5vlQa3pg/63XaOt+vcsRB"
    },
    "kernelspec": {
      "display_name": "Python 3",
      "name": "python3"
    },
    "language_info": {
      "name": "python"
    }
  },
  "nbformat": 4,
  "nbformat_minor": 0
}